{
 "cells": [
  {
   "cell_type": "code",
   "execution_count": 1,
   "metadata": {},
   "outputs": [],
   "source": [
    "import io\n",
    "import random\n",
    "import string\n",
    "import warnings\n",
    "import numpy as np\n",
    "from sklearn.feature_extraction.text import TfidfVectorizer\n",
    "from sklearn.metrics.pairwise import cosine_similarity\n",
    "import warnings\n",
    "warnings.filterwarnings('ignore')\n"
   ]
  },
  {
   "cell_type": "code",
   "execution_count": 2,
   "metadata": {},
   "outputs": [
    {
     "name": "stdout",
     "output_type": "stream",
     "text": [
      "Requirement already satisfied: nltk in c:\\users\\swath\\anaconda3\\lib\\site-packages (3.4)\n",
      "Requirement already satisfied: six in c:\\users\\swath\\anaconda3\\lib\\site-packages (from nltk) (1.12.0)\n",
      "Requirement already satisfied: singledispatch in c:\\users\\swath\\anaconda3\\lib\\site-packages (from nltk) (3.4.0.3)\n",
      "Note: you may need to restart the kernel to use updated packages.\n"
     ]
    }
   ],
   "source": [
    "pip install nltk"
   ]
  },
  {
   "cell_type": "code",
   "execution_count": 3,
   "metadata": {},
   "outputs": [
    {
     "data": {
      "text/plain": [
       "True"
      ]
     },
     "execution_count": 3,
     "metadata": {},
     "output_type": "execute_result"
    }
   ],
   "source": [
    "import nltk\n",
    "from nltk.stem import WordNetLemmatizer\n",
    "nltk.download('popular', quiet=True) # for downloading packages\n"
   ]
  },
  {
   "cell_type": "code",
   "execution_count": 4,
   "metadata": {},
   "outputs": [],
   "source": [
    "file=open('VMchatbot.txt','r',errors = 'ignore')\n",
    "raw=file.read()\n",
    "raw = raw.upper()# converts to uppercase"
   ]
  },
  {
   "cell_type": "code",
   "execution_count": 5,
   "metadata": {},
   "outputs": [],
   "source": [
    "# converts to list of sentences \n",
    "tokens_sent = nltk.sent_tokenize(raw)\n",
    "# converts to list of words\n",
    "tokens_word = nltk.word_tokenize(raw)"
   ]
  },
  {
   "cell_type": "code",
   "execution_count": 6,
   "metadata": {},
   "outputs": [],
   "source": [
    "lem = nltk.stem.WordNetLemmatizer()\n",
    "def LemmerTokens(tokens):\n",
    "    return [lem.lemmatize(token) for token in tokens]\n",
    "punctuation_dict_remove = dict((ord(punct), None) for punct in string.punctuation)\n",
    "\n",
    "def LemmerNormalize(text):\n",
    "    return LemmerTokens(nltk.word_tokenize(text.lower().translate(punctuation_dict_remove)))"
   ]
  },
  {
   "cell_type": "code",
   "execution_count": 7,
   "metadata": {},
   "outputs": [],
   "source": [
    "GREETING_INPUTS = (\"hello\", \"hi\", \"greetings\",\"hey\",\"Hi\",\"Hello\",\"HI\")\n",
    "GREETING_RESPONSES = [\"Hello There, How can I help you?\",\"Hi! How can I help you today?\",\"Hi, Ask your Queries here\"]\n",
    "def greeting(sentence):\n",
    " \n",
    "    for word in sentence.split():\n",
    "        if word.lower() in GREETING_INPUTS:\n",
    "            return random.choice(GREETING_RESPONSES)"
   ]
  },
  {
   "cell_type": "code",
   "execution_count": 8,
   "metadata": {},
   "outputs": [],
   "source": [
    "def response(user_response):\n",
    "    VMbot_response=''\n",
    "    tokens_sent.append(user_response)\n",
    "    TfidfVec = TfidfVectorizer(tokenizer=LemmerNormalize, stop_words='english')\n",
    "    tfidf = TfidfVec.fit_transform(tokens_sent)\n",
    "    vals = cosine_similarity(tfidf[-1], tfidf)\n",
    "    idx=vals.argsort()[0][-2]\n",
    "    flat = vals.flatten()\n",
    "    flat.sort()\n",
    "    req_tfidf = flat[-2]\n",
    "    if(req_tfidf==0):\n",
    "        VMbot_response=VMbot_response+\"I am sorry! I don't know that!\"\n",
    "        return VMbot_response\n",
    "    else:\n",
    "        VMbot_response = VMbot_response+tokens_sent[idx]\n",
    "        return VMbot_response"
   ]
  },
  {
   "cell_type": "code",
   "execution_count": null,
   "metadata": {},
   "outputs": [
    {
     "name": "stdout",
     "output_type": "stream",
     "text": [
      "VMbot: My name is VMbot. I will answer your queries related to Vidya Mandir College. If you want to exit, type Exit\n",
      "Hi\n",
      "VMbot: Hi! How can I help you today?\n",
      "Admissions \n",
      "VMbot: ADMISSIONS\n",
      "YOU CAN APPLY FOR ADMISSIONS THROUGH THE WEBSITE; CHECK VMIPUC.ORG FOR MORE INFORMATION RELATED TO ADMISSIONS.\n",
      "Streams\n",
      "VMbot: STREAMS\n",
      "SCIENCE: PCMB,PCME,PCMC\n",
      "COMMERCE:MSBA.MEBA,SEBA.\n",
      "Is Arts branch there in the college?\n",
      "VMbot: ARTS\n",
      "SORRY WE DO NOT HAVE ARTS STREAM IN OUR COLLEGE\n",
      "CHECK OUT OTHER BRANCHES WE HAVE.\n",
      "What about Integrated COaching?\n",
      "VMbot: INTEGRATED COACHING\n",
      "THE INTEGRATED COACHING WHICH AIMS TO HELP THE SCIENCE STUDENTS ACE THEIR COMPETITIVE EXAMS NAMELY CET, NEET, JEE WAS INITIATED IN 2014 AND HAS PROVED TO BE A SUCCESSFUL ENDEAVOR\n",
      "\n",
      "INTEGRATED CLASSES TIMINGS\n",
      "8 AM TO 4:30 PM - MONDAY TO SATURDAY\n",
      "6 AM TO 1:30 PM - SUNDAY.\n"
     ]
    }
   ],
   "source": [
    "flag=True\n",
    "print(\"VMbot: My name is VMbot. I will answer your queries related to Vidya Mandir College. If you want to exit, type Exit\")\n",
    "while(flag==True):\n",
    "    user_response = input()\n",
    "    user_response=user_response.lower()\n",
    "    if(user_response!='exit'):\n",
    "        if(user_response=='thanks' or user_response=='thank you' ):\n",
    "            flag=False\n",
    "            print(\"VMbot: You are welcome..\")\n",
    "        else:\n",
    "            if(greeting(user_response)!=None):\n",
    "                print(\"VMbot: \"+greeting(user_response))\n",
    "            else:\n",
    "                print(\"VMbot: \",end=\"\")\n",
    "                print(response(user_response))\n",
    "                tokens_sent.remove(user_response)\n",
    "    else:\n",
    "        flag=False\n",
    "        print(\"VMbot: Bye! Have a Nice Day!\")"
   ]
  },
  {
   "cell_type": "raw",
   "metadata": {},
   "source": [
    "\n"
   ]
  },
  {
   "cell_type": "code",
   "execution_count": null,
   "metadata": {},
   "outputs": [],
   "source": []
  },
  {
   "cell_type": "code",
   "execution_count": null,
   "metadata": {},
   "outputs": [],
   "source": []
  },
  {
   "cell_type": "code",
   "execution_count": null,
   "metadata": {},
   "outputs": [],
   "source": []
  },
  {
   "cell_type": "code",
   "execution_count": null,
   "metadata": {},
   "outputs": [],
   "source": []
  }
 ],
 "metadata": {
  "kernelspec": {
   "display_name": "Python 3",
   "language": "python",
   "name": "python3"
  },
  "language_info": {
   "codemirror_mode": {
    "name": "ipython",
    "version": 3
   },
   "file_extension": ".py",
   "mimetype": "text/x-python",
   "name": "python",
   "nbconvert_exporter": "python",
   "pygments_lexer": "ipython3",
   "version": "3.7.3"
  }
 },
 "nbformat": 4,
 "nbformat_minor": 2
}
